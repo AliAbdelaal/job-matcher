{
 "cells": [
  {
   "cell_type": "markdown",
   "metadata": {},
   "source": [
    "# Get most semantically similar job\n",
    "\n",
    "In this notebook we search for jobs that are semantically similar and retrieve the most similar jobs, more of a job recommender based on data from [kaggle](https://www.kaggle.com/madhab/jobposts)"
   ]
  },
  {
   "cell_type": "code",
   "execution_count": 4,
   "metadata": {
    "ExecuteTime": {
     "end_time": "2020-08-19T22:37:32.856027Z",
     "start_time": "2020-08-19T22:37:29.238672Z"
    }
   },
   "outputs": [],
   "source": [
    "import numpy as np\n",
    "import pandas as pd\n",
    "import spacy\n",
    "from sklearn.neighbors import KNeighborsClassifier\n",
    "from sklearn.metrics.pairwise import cosine_distances\n",
    "from tqdm.notebook import tqdm\n",
    "\n",
    "nlp = spacy.load('en_core_web_md')"
   ]
  },
  {
   "cell_type": "code",
   "execution_count": 2,
   "metadata": {
    "ExecuteTime": {
     "end_time": "2020-08-19T22:28:18.764538Z",
     "start_time": "2020-08-19T22:28:18.126149Z"
    }
   },
   "outputs": [
    {
     "data": {
      "text/html": [
       "<div>\n",
       "<style scoped>\n",
       "    .dataframe tbody tr th:only-of-type {\n",
       "        vertical-align: middle;\n",
       "    }\n",
       "\n",
       "    .dataframe tbody tr th {\n",
       "        vertical-align: top;\n",
       "    }\n",
       "\n",
       "    .dataframe thead th {\n",
       "        text-align: right;\n",
       "    }\n",
       "</style>\n",
       "<table border=\"1\" class=\"dataframe\">\n",
       "  <thead>\n",
       "    <tr style=\"text-align: right;\">\n",
       "      <th></th>\n",
       "      <th>jobpost</th>\n",
       "      <th>date</th>\n",
       "      <th>Title</th>\n",
       "      <th>Company</th>\n",
       "      <th>AnnouncementCode</th>\n",
       "      <th>Term</th>\n",
       "      <th>Eligibility</th>\n",
       "      <th>Audience</th>\n",
       "      <th>StartDate</th>\n",
       "      <th>Duration</th>\n",
       "      <th>...</th>\n",
       "      <th>Salary</th>\n",
       "      <th>ApplicationP</th>\n",
       "      <th>OpeningDate</th>\n",
       "      <th>Deadline</th>\n",
       "      <th>Notes</th>\n",
       "      <th>AboutC</th>\n",
       "      <th>Attach</th>\n",
       "      <th>Year</th>\n",
       "      <th>Month</th>\n",
       "      <th>IT</th>\n",
       "    </tr>\n",
       "  </thead>\n",
       "  <tbody>\n",
       "    <tr>\n",
       "      <th>0</th>\n",
       "      <td>AMERIA Investment Consulting Company\\r\\nJOB TI...</td>\n",
       "      <td>Jan 5, 2004</td>\n",
       "      <td>Chief Financial Officer</td>\n",
       "      <td>AMERIA Investment Consulting Company</td>\n",
       "      <td>NaN</td>\n",
       "      <td>NaN</td>\n",
       "      <td>NaN</td>\n",
       "      <td>NaN</td>\n",
       "      <td>NaN</td>\n",
       "      <td>NaN</td>\n",
       "      <td>...</td>\n",
       "      <td>NaN</td>\n",
       "      <td>To apply for this position, please submit a\\r\\...</td>\n",
       "      <td>NaN</td>\n",
       "      <td>26 January 2004</td>\n",
       "      <td>NaN</td>\n",
       "      <td>NaN</td>\n",
       "      <td>NaN</td>\n",
       "      <td>2004</td>\n",
       "      <td>1</td>\n",
       "      <td>False</td>\n",
       "    </tr>\n",
       "    <tr>\n",
       "      <th>1</th>\n",
       "      <td>International Research &amp; Exchanges Board (IREX...</td>\n",
       "      <td>Jan 7, 2004</td>\n",
       "      <td>Full-time Community Connections Intern (paid i...</td>\n",
       "      <td>International Research &amp; Exchanges Board (IREX)</td>\n",
       "      <td>NaN</td>\n",
       "      <td>NaN</td>\n",
       "      <td>NaN</td>\n",
       "      <td>NaN</td>\n",
       "      <td>NaN</td>\n",
       "      <td>3 months</td>\n",
       "      <td>...</td>\n",
       "      <td>NaN</td>\n",
       "      <td>Please submit a cover letter and resume to:\\r\\...</td>\n",
       "      <td>NaN</td>\n",
       "      <td>12 January 2004</td>\n",
       "      <td>NaN</td>\n",
       "      <td>The International Research &amp; Exchanges Board (...</td>\n",
       "      <td>NaN</td>\n",
       "      <td>2004</td>\n",
       "      <td>1</td>\n",
       "      <td>False</td>\n",
       "    </tr>\n",
       "    <tr>\n",
       "      <th>2</th>\n",
       "      <td>Caucasus Environmental NGO Network (CENN)\\r\\nJ...</td>\n",
       "      <td>Jan 7, 2004</td>\n",
       "      <td>Country Coordinator</td>\n",
       "      <td>Caucasus Environmental NGO Network (CENN)</td>\n",
       "      <td>NaN</td>\n",
       "      <td>NaN</td>\n",
       "      <td>NaN</td>\n",
       "      <td>NaN</td>\n",
       "      <td>NaN</td>\n",
       "      <td>Renewable annual contract\\r\\nPOSITION</td>\n",
       "      <td>...</td>\n",
       "      <td>NaN</td>\n",
       "      <td>Please send resume or CV toursula.kazarian@......</td>\n",
       "      <td>NaN</td>\n",
       "      <td>20 January 2004\\r\\nSTART DATE:  February 2004</td>\n",
       "      <td>NaN</td>\n",
       "      <td>The Caucasus Environmental NGO Network is a\\r\\...</td>\n",
       "      <td>NaN</td>\n",
       "      <td>2004</td>\n",
       "      <td>1</td>\n",
       "      <td>False</td>\n",
       "    </tr>\n",
       "    <tr>\n",
       "      <th>3</th>\n",
       "      <td>Manoff Group\\r\\nJOB TITLE:  BCC Specialist\\r\\n...</td>\n",
       "      <td>Jan 7, 2004</td>\n",
       "      <td>BCC Specialist</td>\n",
       "      <td>Manoff Group</td>\n",
       "      <td>NaN</td>\n",
       "      <td>NaN</td>\n",
       "      <td>NaN</td>\n",
       "      <td>NaN</td>\n",
       "      <td>NaN</td>\n",
       "      <td>NaN</td>\n",
       "      <td>...</td>\n",
       "      <td>NaN</td>\n",
       "      <td>Please send cover letter and resume to Amy\\r\\n...</td>\n",
       "      <td>NaN</td>\n",
       "      <td>23 January 2004\\r\\nSTART DATE:  Immediate</td>\n",
       "      <td>NaN</td>\n",
       "      <td>NaN</td>\n",
       "      <td>NaN</td>\n",
       "      <td>2004</td>\n",
       "      <td>1</td>\n",
       "      <td>False</td>\n",
       "    </tr>\n",
       "    <tr>\n",
       "      <th>4</th>\n",
       "      <td>Yerevan Brandy Company\\r\\nJOB TITLE:  Software...</td>\n",
       "      <td>Jan 10, 2004</td>\n",
       "      <td>Software Developer</td>\n",
       "      <td>Yerevan Brandy Company</td>\n",
       "      <td>NaN</td>\n",
       "      <td>NaN</td>\n",
       "      <td>NaN</td>\n",
       "      <td>NaN</td>\n",
       "      <td>NaN</td>\n",
       "      <td>NaN</td>\n",
       "      <td>...</td>\n",
       "      <td>NaN</td>\n",
       "      <td>Successful candidates should submit\\r\\n- CV; \\...</td>\n",
       "      <td>NaN</td>\n",
       "      <td>20 January 2004, 18:00</td>\n",
       "      <td>NaN</td>\n",
       "      <td>NaN</td>\n",
       "      <td>NaN</td>\n",
       "      <td>2004</td>\n",
       "      <td>1</td>\n",
       "      <td>True</td>\n",
       "    </tr>\n",
       "  </tbody>\n",
       "</table>\n",
       "<p>5 rows × 24 columns</p>\n",
       "</div>"
      ],
      "text/plain": [
       "                                             jobpost          date  \\\n",
       "0  AMERIA Investment Consulting Company\\r\\nJOB TI...   Jan 5, 2004   \n",
       "1  International Research & Exchanges Board (IREX...   Jan 7, 2004   \n",
       "2  Caucasus Environmental NGO Network (CENN)\\r\\nJ...   Jan 7, 2004   \n",
       "3  Manoff Group\\r\\nJOB TITLE:  BCC Specialist\\r\\n...   Jan 7, 2004   \n",
       "4  Yerevan Brandy Company\\r\\nJOB TITLE:  Software...  Jan 10, 2004   \n",
       "\n",
       "                                               Title  \\\n",
       "0                            Chief Financial Officer   \n",
       "1  Full-time Community Connections Intern (paid i...   \n",
       "2                                Country Coordinator   \n",
       "3                                     BCC Specialist   \n",
       "4                                 Software Developer   \n",
       "\n",
       "                                           Company AnnouncementCode Term  \\\n",
       "0             AMERIA Investment Consulting Company              NaN  NaN   \n",
       "1  International Research & Exchanges Board (IREX)              NaN  NaN   \n",
       "2        Caucasus Environmental NGO Network (CENN)              NaN  NaN   \n",
       "3                                     Manoff Group              NaN  NaN   \n",
       "4                           Yerevan Brandy Company              NaN  NaN   \n",
       "\n",
       "  Eligibility Audience StartDate                               Duration  ...  \\\n",
       "0         NaN      NaN       NaN                                    NaN  ...   \n",
       "1         NaN      NaN       NaN                               3 months  ...   \n",
       "2         NaN      NaN       NaN  Renewable annual contract\\r\\nPOSITION  ...   \n",
       "3         NaN      NaN       NaN                                    NaN  ...   \n",
       "4         NaN      NaN       NaN                                    NaN  ...   \n",
       "\n",
       "  Salary                                       ApplicationP OpeningDate  \\\n",
       "0    NaN  To apply for this position, please submit a\\r\\...         NaN   \n",
       "1    NaN  Please submit a cover letter and resume to:\\r\\...         NaN   \n",
       "2    NaN  Please send resume or CV toursula.kazarian@......         NaN   \n",
       "3    NaN  Please send cover letter and resume to Amy\\r\\n...         NaN   \n",
       "4    NaN  Successful candidates should submit\\r\\n- CV; \\...         NaN   \n",
       "\n",
       "                                        Deadline Notes  \\\n",
       "0                                26 January 2004   NaN   \n",
       "1                                12 January 2004   NaN   \n",
       "2  20 January 2004\\r\\nSTART DATE:  February 2004   NaN   \n",
       "3      23 January 2004\\r\\nSTART DATE:  Immediate   NaN   \n",
       "4                         20 January 2004, 18:00   NaN   \n",
       "\n",
       "                                              AboutC Attach  Year Month     IT  \n",
       "0                                                NaN    NaN  2004     1  False  \n",
       "1  The International Research & Exchanges Board (...    NaN  2004     1  False  \n",
       "2  The Caucasus Environmental NGO Network is a\\r\\...    NaN  2004     1  False  \n",
       "3                                                NaN    NaN  2004     1  False  \n",
       "4                                                NaN    NaN  2004     1   True  \n",
       "\n",
       "[5 rows x 24 columns]"
      ]
     },
     "execution_count": 2,
     "metadata": {},
     "output_type": "execute_result"
    }
   ],
   "source": [
    "# load the data\n",
    "data_df = pd.read_csv(\"../data/data job posts.csv\")\n",
    "data_df.head()"
   ]
  },
  {
   "cell_type": "code",
   "execution_count": 9,
   "metadata": {
    "ExecuteTime": {
     "end_time": "2020-08-19T22:40:51.420885Z",
     "start_time": "2020-08-19T22:40:51.373995Z"
    }
   },
   "outputs": [
    {
     "data": {
      "text/plain": [
       "jobpost                 0\n",
       "date                    0\n",
       "Title                  28\n",
       "Company                 7\n",
       "AnnouncementCode    17793\n",
       "Term                11325\n",
       "Eligibility         14071\n",
       "Audience            18361\n",
       "StartDate            9326\n",
       "Duration             8203\n",
       "Location               32\n",
       "JobDescription       3892\n",
       "JobRequirment        2522\n",
       "RequiredQual          484\n",
       "Salary               9379\n",
       "ApplicationP           60\n",
       "OpeningDate           706\n",
       "Deadline               65\n",
       "Notes               16790\n",
       "AboutC               6531\n",
       "Attach              17442\n",
       "Year                    0\n",
       "Month                   0\n",
       "IT                      0\n",
       "dtype: int64"
      ]
     },
     "execution_count": 9,
     "metadata": {},
     "output_type": "execute_result"
    }
   ],
   "source": [
    "# check the missing values\n",
    "data_df.isna().sum()"
   ]
  },
  {
   "cell_type": "code",
   "execution_count": 98,
   "metadata": {
    "ExecuteTime": {
     "end_time": "2020-08-19T23:52:01.570886Z",
     "start_time": "2020-08-19T23:52:01.528617Z"
    }
   },
   "outputs": [],
   "source": [
    "# drop the rows without descriptions or titles\n",
    "data_df = data_df.dropna(subset=['Title', 'JobDescription'])\n",
    "data_df = data_df.drop(\"jobpost\", axis=1)"
   ]
  },
  {
   "cell_type": "code",
   "execution_count": 67,
   "metadata": {
    "ExecuteTime": {
     "end_time": "2020-08-19T23:05:57.704132Z",
     "start_time": "2020-08-19T23:05:57.700330Z"
    }
   },
   "outputs": [],
   "source": [
    "# let's get the job title and describtion\n",
    "titles = data_df['Title'].values\n",
    "describtions = data_df['JobDescription'].values"
   ]
  },
  {
   "cell_type": "code",
   "execution_count": 15,
   "metadata": {
    "ExecuteTime": {
     "end_time": "2020-08-19T22:44:07.068582Z",
     "start_time": "2020-08-19T22:43:12.813240Z"
    }
   },
   "outputs": [
    {
     "data": {
      "application/vnd.jupyter.widget-view+json": {
       "model_id": "9047a64d4cbd49d1b1d2332a7dbee4f4",
       "version_major": 2,
       "version_minor": 0
      },
      "text/plain": [
       "HBox(children=(FloatProgress(value=0.0, max=15090.0), HTML(value='')))"
      ]
     },
     "metadata": {},
     "output_type": "display_data"
    },
    {
     "name": "stdout",
     "output_type": "stream",
     "text": [
      "\n",
      "all jobs were vectorized !\n"
     ]
    }
   ],
   "source": [
    "# let's build the vectors for the describtion\n",
    "describtion_vectors = np.zeros((len(describtions), 300))\n",
    "for i, desc in enumerate(tqdm(nlp.pipe(describtions), total=len(describtions))):\n",
    "    vector = np.zeros(300,)\n",
    "    valid_tokens = 0\n",
    "    for token in desc:\n",
    "        if not token.is_stop and not token.is_punct and token.has_vector:\n",
    "            vector += token.vector\n",
    "            valid_tokens += 1\n",
    "    vector = vector/valid_tokens if valid_tokens > 1 else vector \n",
    "    describtion_vectors[i, :] = vector\n",
    "print(\"all jobs were vectorized !\")"
   ]
  },
  {
   "cell_type": "code",
   "execution_count": 103,
   "metadata": {
    "ExecuteTime": {
     "end_time": "2020-08-20T00:05:57.825374Z",
     "start_time": "2020-08-20T00:05:56.758471Z"
    }
   },
   "outputs": [],
   "source": [
    "# export the vectors and the new data frame\n",
    "np.save(\"jobs_vectors.npy\", describtion_vectors)\n",
    "data_df.to_csv(\"cleaned_data.csv\", index=False)"
   ]
  },
  {
   "cell_type": "code",
   "execution_count": 17,
   "metadata": {
    "ExecuteTime": {
     "end_time": "2020-08-19T22:48:26.602846Z",
     "start_time": "2020-08-19T22:48:00.640313Z"
    }
   },
   "outputs": [
    {
     "data": {
      "text/plain": [
       "KNeighborsClassifier(algorithm='auto', leaf_size=30,\n",
       "                     metric=<function <lambda> at 0x7faf34bae0e0>,\n",
       "                     metric_params=None, n_jobs=None, n_neighbors=5, p=2,\n",
       "                     weights='distance')"
      ]
     },
     "execution_count": 17,
     "metadata": {},
     "output_type": "execute_result"
    }
   ],
   "source": [
    "# now let's build a KNN model\n",
    "knn = KNeighborsClassifier(weights='distance', metric=lambda v1, v2: cosine_distances([v1], [v2])[0])\n",
    "knn.fit(describtion_vectors, titles)"
   ]
  },
  {
   "cell_type": "code",
   "execution_count": 74,
   "metadata": {
    "ExecuteTime": {
     "end_time": "2020-08-19T23:07:19.563684Z",
     "start_time": "2020-08-19T23:07:19.548592Z"
    }
   },
   "outputs": [],
   "source": [
    "def sent2vect(text):\n",
    "    vector = np.zeros(300,)\n",
    "    valid_tokens = 0\n",
    "    for token in nlp(text):\n",
    "        if not token.is_stop and not token.is_punct and token.has_vector:\n",
    "            vector += token.vector\n",
    "            valid_tokens += 1\n",
    "    vector = vector/valid_tokens if valid_tokens > 1 else vector\n",
    "    return vector"
   ]
  },
  {
   "cell_type": "code",
   "execution_count": 68,
   "metadata": {
    "ExecuteTime": {
     "end_time": "2020-08-19T23:06:10.199456Z",
     "start_time": "2020-08-19T23:06:07.449896Z"
    },
    "code_folding": []
   },
   "outputs": [
    {
     "data": {
      "text/plain": [
       "array(['Data Scientist'], dtype='<U200')"
      ]
     },
     "execution_count": 68,
     "metadata": {},
     "output_type": "execute_result"
    }
   ],
   "source": [
    "# let's test it !\n",
    "new_job_desc = \"Machine learning engineer\"\n",
    "\n",
    "vector = sent2vect(new_job_desc)\n",
    "knn.predict(vector.reshape(1, -1))"
   ]
  },
  {
   "cell_type": "code",
   "execution_count": 100,
   "metadata": {
    "ExecuteTime": {
     "end_time": "2020-08-19T23:52:12.078619Z",
     "start_time": "2020-08-19T23:52:12.064889Z"
    }
   },
   "outputs": [],
   "source": [
    "# let's try to build it ourself\n",
    "def get_top_similar(job_desc, k=5):\n",
    "    vector = sent2vect(job_desc)\n",
    "    # get similarity scores\n",
    "    distances = cosine_distances([vector], describtion_vectors)\n",
    "    most_similar = np.argsort(distances).flatten()[:k]\n",
    "    return data_df.iloc[most_similar].to_dict(orient='records')"
   ]
  },
  {
   "cell_type": "code",
   "execution_count": 101,
   "metadata": {
    "ExecuteTime": {
     "end_time": "2020-08-19T23:52:12.377506Z",
     "start_time": "2020-08-19T23:52:12.320391Z"
    },
    "scrolled": true
   },
   "outputs": [
    {
     "data": {
      "text/plain": [
       "[{'date': 'Apr 11',\n",
       "  'Title': 'Designer',\n",
       "  'Company': 'You and Me',\n",
       "  'AnnouncementCode': nan,\n",
       "  'Term': 'Full time',\n",
       "  'Eligibility': 'All qualified candidates.',\n",
       "  'Audience': nan,\n",
       "  'StartDate': nan,\n",
       "  'Duration': 'Open-ended contract',\n",
       "  'Location': 'Yerevan, Armenia',\n",
       "  'JobDescription': 'You and Me is looking for a creative, smart and\\r\\nextremely motivated experienced Designer, who will be responsible for\\r\\nvarious creative fashion, underwear, socks design assignments. Preferred\\r\\ncandidate should have an interest in fashion, graphic design, art and\\r\\nphotography.',\n",
       "  'JobRequirment': '- Think creatively and use imagination to produce new ideas;\\r\\n- Create images and designs by using the traditional hand skills of\\r\\ndrawing and painting, alongside other techniques, meet design briefs;\\r\\n- Responsible for fashion, underwear, and socks design as well as\\r\\npackaging design;\\r\\n- Responsible for photo editing;\\r\\n- Filter and effect designs;\\r\\n- Responsible for font designs.',\n",
       "  'RequiredQual': '- Ability to coordinate work within various stakeholders;\\r\\n- Ability to draw illustrations is a plus;\\r\\n- Strong knowledge of the Adobe Package (Photoshop, Illustrator,\\r\\ninDesign) and CorelDraw;\\r\\n- Native or close to native English language knowledge;\\r\\n- Strong communication and organization skills;\\r\\n- Ability to respond to issues and meet deadlines.',\n",
       "  'Salary': 'Depending on skills.',\n",
       "  'ApplicationP': 'To apply for this position, please send a letter\\r\\nof intent with a detailed CV addressing relevant qualifications and\\r\\nexperience to: info@... . In the subject line of your e-mail\\r\\nmessage, please, write \"Application for Designer\". No information\\r\\ninquiries will be handled over the phone. Only short-listed candidates\\r\\nwill be called for an interview.\\r\\nPlease clearly mention in your application letter that you learned of\\r\\nthis job opportunity through Career Center and mention the URL of its\\r\\nwebsite - www.careercenter.am, Thanks.',\n",
       "  'OpeningDate': '11 April 2015',\n",
       "  'Deadline': '10 May 2015\\r\\nABOUT:  You and Me company is specialized in producing textile,\\r\\nespecially underwear and baby clothing. It\\'s almost 6 years in the\\r\\nmarket.\\r\\nYou and Me is represented by \"Artsocks\" LLC.',\n",
       "  'Notes': nan,\n",
       "  'AboutC': nan,\n",
       "  'Attach': nan,\n",
       "  'Year': 2015,\n",
       "  'Month': 4,\n",
       "  'IT': False},\n",
       " {'date': 'Jan 22, 2008',\n",
       "  'Title': 'Designer',\n",
       "  'Company': '\"Saten\" LLC',\n",
       "  'AnnouncementCode': nan,\n",
       "  'Term': nan,\n",
       "  'Eligibility': 'Anyone interested',\n",
       "  'Audience': nan,\n",
       "  'StartDate': '01 February 2008',\n",
       "  'Duration': 'Long term',\n",
       "  'Location': 'Yerevan, Armenia',\n",
       "  'JobDescription': '\"Saten\" wedding salon is looking for a Designer to\\r\\nmake and design wedding accessories.',\n",
       "  'JobRequirment': nan,\n",
       "  'RequiredQual': '- Previous work experience in the specified field;\\r\\n- Availability to view the accessories designed previously.',\n",
       "  'Salary': nan,\n",
       "  'ApplicationP': 'All qualified candidates are requested to\\r\\ne-mail their detailed CVs to: dianahoveyan@....\\r\\nOnly short-listed candidates will be invited to an interview.\\r\\nPlease clearly mention in your application letter that you learned of\\r\\nthis job opportunity through Career Center and mention the URL of its\\r\\nwebsite - www.careercenter.am, Thanks.',\n",
       "  'OpeningDate': '22 January 2008',\n",
       "  'Deadline': '01 February 2008',\n",
       "  'Notes': nan,\n",
       "  'AboutC': '\"Saten\" LLC is a wedding salon.',\n",
       "  'Attach': nan,\n",
       "  'Year': 2008,\n",
       "  'Month': 1,\n",
       "  'IT': False},\n",
       " {'date': 'May 25',\n",
       "  'Title': 'Designer',\n",
       "  'Company': 'You and Me',\n",
       "  'AnnouncementCode': nan,\n",
       "  'Term': 'Full-time',\n",
       "  'Eligibility': 'All qualified candidates.',\n",
       "  'Audience': nan,\n",
       "  'StartDate': nan,\n",
       "  'Duration': 'Open-ended contract.',\n",
       "  'Location': 'Yerevan, Armenia',\n",
       "  'JobDescription': 'You and Me is looking for a creative, smart, highly\\r\\nmotivated and experienced Designer, who  will carry out various\\r\\nassignments for the design of underwear, socks and baby clothes. The\\r\\npreferred candidate should have an interest in fashion, graphic design,\\r\\nart and photography.',\n",
       "  'JobRequirment': '- Think creatively and use imagination to produce new ideas;\\r\\n- Create images and designs by using the traditional hand skills of\\r\\ndrawing and painting, alongside other techniques; meet with the design\\r\\nstandards;\\r\\n- Responsible for fashion, underwear and socks design as well as\\r\\npackaging design;\\r\\n- Responsible for the photo editing;\\r\\n- Filter and give effects to designs;\\r\\n- Responsible for font designs.',\n",
       "  'RequiredQual': '- Ability to coordinate work with various stakeholders;\\r\\n- Ability to draw illustrations is a plus;\\r\\n- Strong knowledge of the Adobe Package (Photoshop, Illustrator,\\r\\ninDesign) and CorelDraw;\\r\\n- Native or close to native English language knowledge;\\r\\n- Strong communication and organization skills;\\r\\n- Ability to respond to issues and meet deadlines.',\n",
       "  'Salary': 'Depending on skills.',\n",
       "  'ApplicationP': 'To apply for this position, please send a letter\\r\\nof intent with a detailed CV addressing relevant qualifications and\\r\\nexperience to: info@... . In the subject line of your email\\r\\nmessage, please, mention \"Application for Designer\". No information\\r\\ninquiries will be handled over the phone. Only short-listed candidates\\r\\nwill be called for the interview.\\r\\nPlease clearly mention in your application letter that you learned of\\r\\nthis job opportunity through Career Center and mention the URL of its\\r\\nwebsite - www.careercenter.am, Thanks.',\n",
       "  'OpeningDate': '25 May 2015',\n",
       "  'Deadline': '24 June 2015',\n",
       "  'Notes': nan,\n",
       "  'AboutC': 'You and Me, represented by \"Artsocks\" LLC, is specialized\\r\\nin producing clothes, especially underwear and baby cloths. The Company\\r\\nis almost 6 years in the market.',\n",
       "  'Attach': nan,\n",
       "  'Year': 2015,\n",
       "  'Month': 5,\n",
       "  'IT': False},\n",
       " {'date': 'Jul 31, 2015',\n",
       "  'Title': 'Designer',\n",
       "  'Company': 'You and Me',\n",
       "  'AnnouncementCode': nan,\n",
       "  'Term': 'Full-time',\n",
       "  'Eligibility': 'All qualified candidates.',\n",
       "  'Audience': nan,\n",
       "  'StartDate': nan,\n",
       "  'Duration': 'Open-ended contract.',\n",
       "  'Location': 'Yerevan, Armenia',\n",
       "  'JobDescription': 'You and Me is looking for a creative, smart, highly\\r\\nmotivated and experienced Designer, who  will carry out various\\r\\nassignments for the design of underwear, socks and baby clothes. The\\r\\npreferred candidate should have an interest in fashion, graphic design,\\r\\nart and photography.',\n",
       "  'JobRequirment': '- Think creatively and use imagination to produce new ideas;\\r\\n- Create images and designs by using the traditional hand skills of\\r\\ndrawing and painting, alongside other techniques; meet with the design\\r\\nstandards;\\r\\n- Responsible for fashion, underwear and socks design as well as\\r\\npackaging design;\\r\\n- Responsible for the photo editing;\\r\\n- Filter and give effects to designs;\\r\\n- Responsible for font designs.',\n",
       "  'RequiredQual': '- Ability to coordinate work with various stakeholders;\\r\\n- Ability to draw illustrations is a plus;\\r\\n- Strong knowledge of the Adobe Package (Photoshop, Illustrator,\\r\\ninDesign) and CorelDraw;\\r\\n- Native or close to native English language knowledge;\\r\\n- Strong communication and organization skills;\\r\\n- Ability to respond to issues and meet deadlines.',\n",
       "  'Salary': 'Depending on skills.',\n",
       "  'ApplicationP': 'To apply for this position, please send a letter\\r\\nof intent with a detailed CV addressing relevant qualifications and\\r\\nexperience to: info@... . In the subject line of your email\\r\\nmessage, please, mention \"Application for Designer\". No information\\r\\ninquiries will be handled over the phone. Only short-listed candidates\\r\\nwill be called for the interview.\\r\\nPlease clearly mention in your application letter that you learned of\\r\\nthis job opportunity through Career Center and mention the URL of its\\r\\nwebsite - www.careercenter.am, Thanks.',\n",
       "  'OpeningDate': '31 July 2015',\n",
       "  'Deadline': '30 August 2015',\n",
       "  'Notes': nan,\n",
       "  'AboutC': 'You and Me, represented by \"Artsocks\" LLC, is specialized\\r\\nin producing clothes, especially underwear and baby cloths. The Company\\r\\nis almost 6 years in the market.',\n",
       "  'Attach': nan,\n",
       "  'Year': 2015,\n",
       "  'Month': 7,\n",
       "  'IT': False},\n",
       " {'date': 'Jul 15, 2005',\n",
       "  'Title': 'Salesperson/ Consultant',\n",
       "  'Company': 'Accept Employment Agency',\n",
       "  'AnnouncementCode': nan,\n",
       "  'Term': 'Full-time',\n",
       "  'Eligibility': 'Everyone',\n",
       "  'Audience': nan,\n",
       "  'StartDate': 'As soon as possible',\n",
       "  'Duration': nan,\n",
       "  'Location': 'Yerevan, Armenia',\n",
       "  'JobDescription': 'We are seeking a Salesperson/ Consultant for a fashion\\r\\nstore.',\n",
       "  'JobRequirment': '- Sell the product of the company;\\r\\n- Provide consulting to customers.',\n",
       "  'RequiredQual': '- Higher education;\\r\\n- Excellent knowledge of Russian and Armenian languages;\\r\\n- Relevant work experience is plus.',\n",
       "  'Salary': '$100 and up',\n",
       "  'ApplicationP': 'Please, call the Accept Employment Agency by:\\r\\n58 49 95; 58 49 45.\\r\\nPlease clearly mention in your application letter that you learned of\\r\\nthis job opportunity through Career Center and mention the URL of its\\r\\nwebsite - www.careercenter.am, Thanks.',\n",
       "  'OpeningDate': '13 July 2005',\n",
       "  'Deadline': '30 July 2005',\n",
       "  'Notes': nan,\n",
       "  'AboutC': nan,\n",
       "  'Attach': nan,\n",
       "  'Year': 2005,\n",
       "  'Month': 7,\n",
       "  'IT': False}]"
      ]
     },
     "execution_count": 101,
     "metadata": {},
     "output_type": "execute_result"
    }
   ],
   "source": [
    "new_job_desc = \"fashion designer\"\n",
    "\n",
    "get_top_similar(new_job_desc)"
   ]
  },
  {
   "cell_type": "markdown",
   "metadata": {},
   "source": [
    "Now we can get a retrieve the top 5 jobs that are semantically similar to our query !"
   ]
  }
 ],
 "metadata": {
  "kernelspec": {
   "display_name": "Python 3",
   "language": "python",
   "name": "python3"
  },
  "language_info": {
   "codemirror_mode": {
    "name": "ipython",
    "version": 3
   },
   "file_extension": ".py",
   "mimetype": "text/x-python",
   "name": "python",
   "nbconvert_exporter": "python",
   "pygments_lexer": "ipython3",
   "version": "3.7.6"
  }
 },
 "nbformat": 4,
 "nbformat_minor": 4
}
